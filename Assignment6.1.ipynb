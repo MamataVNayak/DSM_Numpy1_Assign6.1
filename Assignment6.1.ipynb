{
 "cells": [
  {
   "cell_type": "code",
   "execution_count": null,
   "metadata": {},
   "outputs": [],
   "source": [
    "'''Assignment 6.1'''\n",
    "'''Write a function so that the columns of the output matrix are powers of the input\n",
    "vector.\n",
    "The order of the powers is determined by the increasing boolean argument. Specifically,\n",
    "when increasing is False, the i-th output column is the input vector raised element-wise\n",
    "to the power of N - i - 1.\n",
    "\n",
    "HINT: Such a matrix with a geometric progression in each row is named for Alexandre-\n",
    "Theophile Vandermonde.'''\n",
    "\n"
   ]
  },
  {
   "cell_type": "code",
   "execution_count": 1,
   "metadata": {},
   "outputs": [],
   "source": [
    "def vander_Input(x,N,order):\n",
    "    X=x.size\n",
    "    result_array=np.empty((N,X),dtype=int)\n",
    "    \n",
    "    if order.upper()==\"TRUE\":\n",
    "        for i in range(N):\n",
    "            power_vector=np.array(np.power(x,i))\n",
    "            result_array[i]=power_vector\n",
    "    else:\n",
    "        for i in range(N-1,-1,-1):\n",
    "            power_vector=np.array(np.power(x,i))\n",
    "            result_array[(N-1)-i]=power_vector\n",
    "    return result_array"
   ]
  },
  {
   "cell_type": "code",
   "execution_count": 3,
   "metadata": {},
   "outputs": [
    {
     "name": "stdout",
     "output_type": "stream",
     "text": [
      "Generate a Vandermonde matrix...\n",
      "Enter the value of N power :3\n",
      "Enter comma separated list of elements eg. 1,2,3 :\n",
      "1,2,3,4\n",
      "Input vector is :\n",
      "[1 2 3 4]\n",
      "Enter 'True' for increasing order of powers else enter 'False' :True\n",
      "The resultant Vandermonde matrix is :\n",
      "[[ 1  1  1]\n",
      " [ 1  2  4]\n",
      " [ 1  3  9]\n",
      " [ 1  4 16]]\n"
     ]
    }
   ],
   "source": [
    "import numpy as np\n",
    "print('Generate a Vandermonde matrix...')\n",
    "\n",
    "N=int(input('Enter the value of N power :'))\n",
    "\n",
    "print('Enter comma separated list of elements eg. 1,2,3 :')\n",
    "input_vector=input()\n",
    "input_list=list(map(int,input_vector.split(',')))\n",
    "x=np.array(input_list)\n",
    "print('Input vector is :')\n",
    "print(x)\n",
    "\n",
    "order=input(\"Enter 'True' for increasing order of powers else enter 'False' :\")\n",
    "\n",
    "result_array=vander_Input(x,N,order)\n",
    "print('The resultant Vandermonde matrix is :')\n",
    "print(result_array.T)"
   ]
  },
  {
   "cell_type": "code",
   "execution_count": null,
   "metadata": {},
   "outputs": [],
   "source": []
  }
 ],
 "metadata": {
  "kernelspec": {
   "display_name": "Python 3",
   "language": "python",
   "name": "python3"
  },
  "language_info": {
   "codemirror_mode": {
    "name": "ipython",
    "version": 3
   },
   "file_extension": ".py",
   "mimetype": "text/x-python",
   "name": "python",
   "nbconvert_exporter": "python",
   "pygments_lexer": "ipython3",
   "version": "3.6.4"
  }
 },
 "nbformat": 4,
 "nbformat_minor": 2
}
